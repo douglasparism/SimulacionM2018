{
 "cells": [
  {
   "cell_type": "markdown",
   "metadata": {},
   "source": [
    "### Resolver las siguientes ecuaciones diferenciales. \n",
    "- Graficar $\\dot{y}$ vs $t$\n",
    "- Graficar $y$ vs $t$\n",
    "- Modificar las condiciones iniciales, proporcionar 10 posibles soluciones alternativas y presentar todas en un mismo gráfico. "
   ]
  },
  {
   "cell_type": "markdown",
   "metadata": {},
   "source": [
    "- $1.\\quad(x-1)y''-xy'+y=0\\quad y(0)=-2,\\ y'(0)=6$\n",
    "- $2.\\quad(x+1)y''-(2-x)y'+y=0,\\quad y(0)=2, \\ y'(0)=-1$\n",
    "- $3.\\quad y''-2xy'+8y=0,\\quad y(0)=3, \\ y'(0)=0$"
   ]
  },
  {
   "cell_type": "code",
   "execution_count": null,
   "metadata": {},
   "outputs": [],
   "source": []
  }
 ],
 "metadata": {
  "kernelspec": {
   "display_name": "Python 3",
   "language": "python",
   "name": "python3"
  },
  "language_info": {
   "codemirror_mode": {
    "name": "ipython",
    "version": 3
   },
   "file_extension": ".py",
   "mimetype": "text/x-python",
   "name": "python",
   "nbconvert_exporter": "python",
   "pygments_lexer": "ipython3",
   "version": "3.6.4"
  }
 },
 "nbformat": 4,
 "nbformat_minor": 2
}
