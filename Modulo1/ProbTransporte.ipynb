{
 "cells": [
  {
   "cell_type": "markdown",
   "metadata": {},
   "source": [
    "###  Problema de transporte \n",
    "- **Referencia**: https://es.wikipedia.org/wiki/Programaci%C3%B3n_lineal\n",
    "\n",
    "<img style=\"float: right; margin: 0px 0px 15px 15px;\" src=\"https://upload.wikimedia.org/wikipedia/commons/a/a0/Progr_Lineal.PNG\" width=\"400px\" height=\"125px\" />\n",
    "\n",
    "Este es un caso curioso, con solo 6 variables (un caso real de problema de transporte puede tener fácilmente más de 1.000 variables) en el cual se aprecia la utilidad de este procedimiento de cálculo.\n",
    "\n",
    "Existen tres minas de carbón cuya producción diaria es:\n",
    "- la mina \"a\" produce 40 toneladas de carbón por día;\n",
    "- la mina \"b\" produce 40 t/día; y,\n",
    "- la mina \"c\" produce 20 t/día.\n",
    "\n",
    "En la zona hay dos centrales termoeléctricas que consumen:\n",
    "- la central \"d\" consume 40 t/día de carbón; y,\n",
    "- la central \"e\" consume 60 t/día.\n",
    "\n",
    "Los costos de mercado, de transporte por tonelada son:\n",
    "- de \"a\" a \"d\" = 2 monedas;\n",
    "- de \"a\" a \"e\" = 11 monedas;\n",
    "- de \"b\" a \"d\" = 12 monedas;\n",
    "- de \"b\" a \"e\" = 24 monedas;\n",
    "- de \"c\" a \"d\" = 13 monedas; y,\n",
    "- de \"c\" a \"e\" = 18 monedas.\n",
    "\n",
    "Si se preguntase a los pobladores de la zona cómo organizar el transporte, tal vez la mayoría opinaría que debe aprovecharse el precio ofrecido por el transportista que va de \"a\" a \"d\", porque es más conveniente que los otros, debido a que es el de más bajo precio.\n",
    "\n",
    "En este caso, el costo total del transporte es:\n",
    "- transporte de 40 t de \"a\" a \"d\" = 80 monedas;\n",
    "- transporte de 20 t de \"c\" a \"e\" = 360 monedas; y,\n",
    "- transporte de 40 t de \"b\" a \"e\" = 960 monedas,\n",
    "    \n",
    "Para un total 1.400 monedas.\n",
    "\n",
    "Sin embargo, formulando el problema para ser resuelto por la programación lineal con\n",
    "- $x_1$ toneladas transportadas de la mina \"a\" a la central \"d\"\n",
    "- $x_2$ toneladas transportadas de la mina \"a\" a la central \"e\"\n",
    "- $x_3$ toneladas transportadas de la mina \"b\" a la central \"d\"\n",
    "- $x_4$ toneladas transportadas de la mina \"b\" a la central \"e\"\n",
    "- $x_5$ toneladas transportadas de la mina \"c\" a la central \"d\"\n",
    "- $x_6$ toneladas transportadas de la mina \"c\" a la central \"e\"\n",
    "\n",
    "se tienen las siguientes ecuaciones:\n",
    "\n",
    "Restricciones de la producción:\n",
    "\n",
    "- $x_1 + x_2 \\leq 40$\n",
    "- $x_3 + x_4 \\leq 40$\n",
    "- $x_5 + x_6 \\leq 20$\n",
    "\n",
    "Restricciones del consumo:\n",
    "\n",
    "- $x_1 + x_3 + x_5 \\geq 40$\n",
    "- $x_2 + x_4 + x_6 \\geq 60$\n",
    "\n",
    "La función objetivo será:\n",
    "\n",
    "$$\\min_{x_1,\\dots,x_6}2x_1 + 11x_2 + 12x_3 + 24x_4 + 13x_5 + 18x_6$$\n",
    "\n",
    "Resolver con `linprog`"
   ]
  },
  {
   "cell_type": "code",
   "execution_count": 5,
   "metadata": {},
   "outputs": [],
   "source": [
    "import numpy as np\n",
    "import scipy.optimize as opt"
   ]
  },
  {
   "cell_type": "code",
   "execution_count": 6,
   "metadata": {},
   "outputs": [],
   "source": [
    "c = np.array([2, 11, 12, 24, 13, 18])\n",
    "A = np.array([[1, 1, 0, 0, 0, 0], [0, 0, 1, 1, 0, 0], [0, 0, 0, 0, 1, 1], [-1, 0, -1, 0, -1, 0], [0, -1, 0, -1, 0, -1]])\n",
    "b = np.array([40, 40, 20, -40, -60])\n",
    "x1_cota = (0, None)\n",
    "x2_cota = (0, None)\n",
    "x3_cota = (0, None)\n",
    "x4_cota = (0, None)\n",
    "x5_cota = (0, None)\n",
    "x6_cota = (0, None)"
   ]
  },
  {
   "cell_type": "code",
   "execution_count": 7,
   "metadata": {},
   "outputs": [],
   "source": [
    "res_transporte = opt.linprog(c, A_ub=A, b_ub=b, \n",
    "                             bounds = (x1_cota,x2_cota,x3_cota,x4_cota,x5_cota,x6_cota))"
   ]
  },
  {
   "cell_type": "code",
   "execution_count": 8,
   "metadata": {},
   "outputs": [
    {
     "data": {
      "text/plain": [
       "     fun: 1280.0\n",
       " message: 'Optimization terminated successfully.'\n",
       "     nit: 10\n",
       "   slack: array([0., 0., 0., 0., 0.])\n",
       "  status: 0\n",
       " success: True\n",
       "       x: array([ 0., 40., 40.,  0.,  0., 20.])"
      ]
     },
     "execution_count": 8,
     "metadata": {},
     "output_type": "execute_result"
    }
   ],
   "source": [
    "res_transporte"
   ]
  }
 ],
 "metadata": {
  "kernelspec": {
   "display_name": "Python 3",
   "language": "python",
   "name": "python3"
  },
  "language_info": {
   "codemirror_mode": {
    "name": "ipython",
    "version": 3
   },
   "file_extension": ".py",
   "mimetype": "text/x-python",
   "name": "python",
   "nbconvert_exporter": "python",
   "pygments_lexer": "ipython3",
   "version": "3.6.4"
  }
 },
 "nbformat": 4,
 "nbformat_minor": 2
}
