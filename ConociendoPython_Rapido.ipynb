{
 "cells": [
  {
   "cell_type": "markdown",
   "metadata": {},
   "source": [
    "<div style=\"background-color:#0099cc;\"> \n",
    "    <font color = white>\n",
    "        <h3>Simulación matemática 2018 </h3>\n",
    "<ul>\n",
    "  <li>Lázaro Alonso </li>\n",
    "  <li>Email:   `alonsosilva@iteso.mx, lazarus.alon@gmail.com`</li>\n",
    "</ul>\n",
    "    </font>\n",
    "</div>"
   ]
  },
  {
   "cell_type": "markdown",
   "metadata": {},
   "source": [
    "# Conociendo Python  (rápido)\n",
    "\n",
    "La intención de este notebook es proporcionar un curso rápido de la sintaxis de ```Python.``` \n",
    "\n",
    "Hablaremos de:\n",
    "- Strings ```(cadenas)```\n",
    "- Data structures ```(estructuras)```\n",
    "- Loops ```(ciclos)```\n",
    "- Conditionals ```(condicionales)```\n",
    "- Functions ```(funciones)```"
   ]
  },
  {
   "cell_type": "markdown",
   "metadata": {},
   "source": [
    "## Strings <font color = red > (cadenas) </font>"
   ]
  },
  {
   "cell_type": "code",
   "execution_count": 5,
   "metadata": {},
   "outputs": [
    {
     "data": {
      "text/plain": [
       "'How many cats '"
      ]
     },
     "execution_count": 5,
     "metadata": {},
     "output_type": "execute_result"
    }
   ],
   "source": [
    "string1 = \"How many cats \"; string1"
   ]
  },
  {
   "cell_type": "code",
   "execution_count": 6,
   "metadata": {},
   "outputs": [
    {
     "data": {
      "text/plain": [
       "'is too many cats?'"
      ]
     },
     "execution_count": 6,
     "metadata": {},
     "output_type": "execute_result"
    }
   ],
   "source": [
    "string2 = \"is too many cats?\"; string2"
   ]
  },
  {
   "cell_type": "code",
   "execution_count": 8,
   "metadata": {},
   "outputs": [
    {
     "data": {
      "text/plain": [
       "'How many cats is too many cats?'"
      ]
     },
     "execution_count": 8,
     "metadata": {},
     "output_type": "execute_result"
    }
   ],
   "source": [
    "string1 + string2"
   ]
  },
  {
   "cell_type": "code",
   "execution_count": 41,
   "metadata": {},
   "outputs": [
    {
     "name": "stdout",
     "output_type": "stream",
     "text": [
      "I don't know but 10 are a few!\n"
     ]
    }
   ],
   "source": [
    "N = 10\n",
    "print(\"I don't know but %s are a few!\" % N)"
   ]
  },
  {
   "cell_type": "markdown",
   "metadata": {},
   "source": [
    "###  <font color = blue > Ejercicios </font>\n",
    "- Crear una cadena que diga `hola` 200 veces. \n",
    "- Declare two variables\n",
    "\n",
    "    ```python\n",
    "    a = 3\n",
    "    b = 4\n",
    "    ```\n",
    "    y usalas para crear las siguientes dos cadenas:\n",
    "    ```python\n",
    "    \"3 + 4\"\n",
    "    \"7\"\n",
    "    ```"
   ]
  },
  {
   "cell_type": "markdown",
   "metadata": {},
   "source": [
    "## Data structures <font color = red > (estructuras) </font>"
   ]
  },
  {
   "cell_type": "markdown",
   "metadata": {},
   "source": [
    "### Tuples <font color = red > (tuplas) </font>\n",
    "\n",
    "Podemos crear una tupla, delimitando una colección ordenada de elementos en `( )`. \n",
    "\n",
    "Syntax: <br>\n",
    "```python\n",
    "(item1, item2, ...)```"
   ]
  },
  {
   "cell_type": "code",
   "execution_count": 12,
   "metadata": {},
   "outputs": [
    {
     "data": {
      "text/plain": [
       "('Legion', 'Westworld', 'Billions')"
      ]
     },
     "execution_count": 12,
     "metadata": {},
     "output_type": "execute_result"
    }
   ],
   "source": [
    "myfav_tvshows = (\"Legion\", \"Westworld\", \"Billions\"); myfav_tvshows"
   ]
  },
  {
   "cell_type": "markdown",
   "metadata": {},
   "source": [
    "### Dictionaries <font color = red > (Diccionarios) </font>\n",
    "\n",
    "Si tenemos un conjunto de datos relacionados unos con otros, podríamos guardar estos datos en un diccionario. Para hacer esto, usamos `{}`. \n",
    "\n",
    "Syntax:\n",
    "```python\n",
    "{key1 : value1, key2 : value2, ...}```\n",
    "\n",
    "Un buen ejemplo de un diccionario es una lista de contactos, donde asociamos cada nombre con sus números telefónicos. "
   ]
  },
  {
   "cell_type": "code",
   "execution_count": 13,
   "metadata": {},
   "outputs": [
    {
     "data": {
      "text/plain": [
       "{'Ghostbusters': '555-2368', 'Jenny': '867-5309'}"
      ]
     },
     "execution_count": 13,
     "metadata": {},
     "output_type": "execute_result"
    }
   ],
   "source": [
    "my_phonebook = {\"Jenny\" : \"867-5309\", \"Ghostbusters\" : \"555-2368\"}; my_phonebook"
   ]
  },
  {
   "cell_type": "markdown",
   "metadata": {},
   "source": [
    "### Arrays <font color = red> (arreglos) </font>\n",
    "\n",
    "A diferencia de las tuplas, los arreglos son mutables (se pueden modificar). Y a diferencia de los diccionarios, los arreglos continenen secuencias ordenadas  de elementos. <br>\n",
    "Podemos crear un arreglo delimitando esta secuencia de elementos en  `[ ]`.\n",
    "\n",
    "Syntax: <br>\n",
    "```python\n",
    "[item1, item2, ...]```\n",
    "\n",
    "\n",
    "Por ejemplo, podemos crear un arreglo para recordar a mis enemigos,"
   ]
  },
  {
   "cell_type": "code",
   "execution_count": 15,
   "metadata": {},
   "outputs": [
    {
     "data": {
      "text/plain": [
       "['Batman', 'Robin', 'Linterna', 'Flash', 'Lex']"
      ]
     },
     "execution_count": 15,
     "metadata": {},
     "output_type": "execute_result"
    }
   ],
   "source": [
    "my_enemies = [\"Batman\", \"Robin\", \"Linterna\", \"Flash\", \"Lex\"]; my_enemies"
   ]
  },
  {
   "cell_type": "markdown",
   "metadata": {},
   "source": [
    "o alguna secuencia de números, "
   ]
  },
  {
   "cell_type": "code",
   "execution_count": 16,
   "metadata": {},
   "outputs": [
    {
     "data": {
      "text/plain": [
       "[1, 1, 2, 3, 5, 8, 13]"
      ]
     },
     "execution_count": 16,
     "metadata": {},
     "output_type": "execute_result"
    }
   ],
   "source": [
    "fibonacci = [1, 1, 2, 3, 5, 8, 13]; fibonacci"
   ]
  },
  {
   "cell_type": "code",
   "execution_count": 19,
   "metadata": {},
   "outputs": [
    {
     "data": {
      "text/plain": [
       "[1, 1, 2, 3, 'Batman', 'Robin']"
      ]
     },
     "execution_count": 19,
     "metadata": {},
     "output_type": "execute_result"
    }
   ],
   "source": [
    "mezcla =  [1, 1, 2, 3, \"Batman\", \"Robin\"]; mezcla"
   ]
  },
  {
   "cell_type": "markdown",
   "metadata": {},
   "source": [
    "También podemos crear arreglos con otras estructuras de datos, o bien arreglos multidimensionales. "
   ]
  },
  {
   "cell_type": "code",
   "execution_count": 21,
   "metadata": {},
   "outputs": [
    {
     "data": {
      "text/plain": [
       "[[1, 2, 3], [4, 5], [6, 7, 8, 9]]"
      ]
     },
     "execution_count": 21,
     "metadata": {},
     "output_type": "execute_result"
    }
   ],
   "source": [
    "numbers = [[1, 2, 3], [4, 5], [6, 7, 8, 9]]; numbers"
   ]
  },
  {
   "cell_type": "markdown",
   "metadata": {},
   "source": [
    "###  <font color = blue > Ejercicios </font>\n",
    "- Crea un arreglo, `arr`,  con el código siguiente: \n",
    "\n",
    "    ```python\n",
    "    arr = [1, 2, 3]\n",
    "    ```\n",
    "\n",
    "    Agrega el numero `4`al final del arreglo y después borralo. `(investigar)`\n",
    "    \n",
    "- Agrega `Emergencia` como clave al diccionario definido arriba con el valor `911`. "
   ]
  },
  {
   "cell_type": "markdown",
   "metadata": {},
   "source": [
    "## Loops <font color = red > (ciclos) </font>\n",
    "\n",
    "### ciclos `for` \n",
    "\n",
    "La sintaxis de un ciclo  `for` es \n",
    "\n",
    "```python\n",
    "for *var* in *loop iterable*:\n",
    "    *loop body*\n",
    "```"
   ]
  },
  {
   "cell_type": "code",
   "execution_count": 24,
   "metadata": {},
   "outputs": [
    {
     "name": "stdout",
     "output_type": "stream",
     "text": [
      "0 1 2 3 4 5 6 7 8 9 "
     ]
    }
   ],
   "source": [
    "for n in range(10):\n",
    "    print(n, end = \" \")"
   ]
  },
  {
   "cell_type": "markdown",
   "metadata": {},
   "source": [
    "###  <font color = blue > Ejercicio </font>\n",
    "- Escribe un ciclo que imprima el cuadrado de los números del 1 al 100. \n",
    "- Crea un diccionario, llamdo `cuadrados` que guarde enteros y sus cuadrados `clave`, `valor`. "
   ]
  },
  {
   "cell_type": "markdown",
   "metadata": {},
   "source": [
    "### ciclos `while` \n",
    "\n",
    "La sintaxis de un ciclo `while` es\n",
    "\n",
    "```python\n",
    "while *condition*:\n",
    "    *loop body*\n",
    "```"
   ]
  },
  {
   "cell_type": "code",
   "execution_count": 25,
   "metadata": {},
   "outputs": [
    {
     "name": "stdout",
     "output_type": "stream",
     "text": [
      "1 2 3 4 5 6 7 8 9 10 "
     ]
    }
   ],
   "source": [
    "n = 0\n",
    "while n < 10:\n",
    "    n += 1\n",
    "    print(n, end = \" \")"
   ]
  },
  {
   "cell_type": "markdown",
   "metadata": {},
   "source": [
    "## Conditionals <font color = red > (condicionales)</font>\n",
    "\n",
    "#### con `if`\n",
    "\n",
    "In Python, la sintaxis es\n",
    "\n",
    "```python\n",
    "if *condition 1*:\n",
    "    *option 1*\n",
    "elif *condition 2*:\n",
    "    *option 2*\n",
    "else:\n",
    "    *option 3*\n",
    "```\n",
    "\n",
    "nos permite evaluar condicionalmente una de nuestras opciones. "
   ]
  },
  {
   "cell_type": "code",
   "execution_count": 28,
   "metadata": {},
   "outputs": [
    {
     "name": "stdout",
     "output_type": "stream",
     "text": [
      "7\n"
     ]
    }
   ],
   "source": [
    "x = 5\n",
    "y = 7\n",
    "if x > y:\n",
    "    print(x)\n",
    "else:\n",
    "    print(y)"
   ]
  },
  {
   "cell_type": "markdown",
   "metadata": {},
   "source": [
    "**Operador ternario**"
   ]
  },
  {
   "cell_type": "markdown",
   "metadata": {},
   "source": [
    "In Python, la sintaxis es\n",
    "\n",
    "```python\n",
    "*option 1* if *condition* else *option 2*\n",
    "```"
   ]
  },
  {
   "cell_type": "code",
   "execution_count": 29,
   "metadata": {},
   "outputs": [
    {
     "name": "stdout",
     "output_type": "stream",
     "text": [
      "7\n"
     ]
    }
   ],
   "source": [
    "print(x) if x > y else print(y)"
   ]
  },
  {
   "cell_type": "markdown",
   "metadata": {},
   "source": [
    "###  <font color = blue > Ejercicio </font>\n",
    "- Escribe un condicional que te imprima `par` si uno número dado es par, e `impar` si es impar. \n",
    "- Hazlo también con el operador ternario. "
   ]
  },
  {
   "cell_type": "markdown",
   "metadata": {},
   "source": [
    "## Functions <font color = red > (funciones) </font>"
   ]
  },
  {
   "cell_type": "markdown",
   "metadata": {},
   "source": [
    "### ¿Cómo declarar una función ? "
   ]
  },
  {
   "cell_type": "code",
   "execution_count": 37,
   "metadata": {},
   "outputs": [],
   "source": [
    "def f(x):\n",
    "    return x**2"
   ]
  },
  {
   "cell_type": "code",
   "execution_count": 40,
   "metadata": {},
   "outputs": [
    {
     "data": {
      "text/plain": [
       "4"
      ]
     },
     "execution_count": 40,
     "metadata": {},
     "output_type": "execute_result"
    }
   ],
   "source": [
    "f(2)"
   ]
  },
  {
   "cell_type": "code",
   "execution_count": 42,
   "metadata": {},
   "outputs": [
    {
     "ename": "TypeError",
     "evalue": "unsupported operand type(s) for ** or pow(): 'str' and 'int'",
     "output_type": "error",
     "traceback": [
      "\u001b[0;31m---------------------------------------------------------------------------\u001b[0m",
      "\u001b[0;31mTypeError\u001b[0m                                 Traceback (most recent call last)",
      "\u001b[0;32m<ipython-input-42-678ce6cea4e2>\u001b[0m in \u001b[0;36m<module>\u001b[0;34m()\u001b[0m\n\u001b[0;32m----> 1\u001b[0;31m \u001b[0mf\u001b[0m\u001b[0;34m(\u001b[0m\u001b[0;34m\"f\"\u001b[0m\u001b[0;34m)\u001b[0m\u001b[0;34m\u001b[0m\u001b[0m\n\u001b[0m",
      "\u001b[0;32m<ipython-input-37-4261cf13ee74>\u001b[0m in \u001b[0;36mf\u001b[0;34m(x)\u001b[0m\n\u001b[1;32m      1\u001b[0m \u001b[0;32mdef\u001b[0m \u001b[0mf\u001b[0m\u001b[0;34m(\u001b[0m\u001b[0mx\u001b[0m\u001b[0;34m)\u001b[0m\u001b[0;34m:\u001b[0m\u001b[0;34m\u001b[0m\u001b[0m\n\u001b[0;32m----> 2\u001b[0;31m     \u001b[0;32mreturn\u001b[0m \u001b[0mx\u001b[0m\u001b[0;34m**\u001b[0m\u001b[0;36m2\u001b[0m\u001b[0;34m\u001b[0m\u001b[0m\n\u001b[0m",
      "\u001b[0;31mTypeError\u001b[0m: unsupported operand type(s) for ** or pow(): 'str' and 'int'"
     ]
    }
   ],
   "source": [
    "f(\"f\")"
   ]
  },
  {
   "cell_type": "markdown",
   "metadata": {},
   "source": [
    "Las funciones de `python` funcionarán con `strings` solo cuando dicha operación este definida para estas, i.e. "
   ]
  },
  {
   "cell_type": "code",
   "execution_count": 54,
   "metadata": {},
   "outputs": [],
   "source": [
    "def g(n, x):\n",
    "    return n*x"
   ]
  },
  {
   "cell_type": "code",
   "execution_count": 56,
   "metadata": {},
   "outputs": [
    {
     "data": {
      "text/plain": [
       "'ffffffffff'"
      ]
     },
     "execution_count": 56,
     "metadata": {},
     "output_type": "execute_result"
    }
   ],
   "source": [
    "g(10, \"f\")"
   ]
  },
  {
   "cell_type": "markdown",
   "metadata": {},
   "source": [
    "** Funciones con argumentos dados inicialmente `default` **"
   ]
  },
  {
   "cell_type": "code",
   "execution_count": 58,
   "metadata": {},
   "outputs": [],
   "source": [
    "def polinomio(x = 0, y = 0, z = 0):\n",
    "    return 3*x + 2*y + 5*z"
   ]
  },
  {
   "cell_type": "markdown",
   "metadata": {},
   "source": [
    "Así, cuando llamamos a la función sin dar ningún argumento, obtenemos:"
   ]
  },
  {
   "cell_type": "code",
   "execution_count": 59,
   "metadata": {},
   "outputs": [
    {
     "data": {
      "text/plain": [
       "0"
      ]
     },
     "execution_count": 59,
     "metadata": {},
     "output_type": "execute_result"
    }
   ],
   "source": [
    "polinomio()"
   ]
  },
  {
   "cell_type": "markdown",
   "metadata": {},
   "source": [
    "La función, entonces por `default` tomará los valores para los argumentos, de acuerdo al orden en que están definidos inicialmente"
   ]
  },
  {
   "cell_type": "code",
   "execution_count": 61,
   "metadata": {},
   "outputs": [
    {
     "data": {
      "text/plain": [
       "22"
      ]
     },
     "execution_count": 61,
     "metadata": {},
     "output_type": "execute_result"
    }
   ],
   "source": [
    "polinomio(1,2,3)"
   ]
  },
  {
   "cell_type": "code",
   "execution_count": 62,
   "metadata": {},
   "outputs": [
    {
     "data": {
      "text/plain": [
       "23"
      ]
     },
     "execution_count": 62,
     "metadata": {},
     "output_type": "execute_result"
    }
   ],
   "source": [
    "polinomio(2,1,3)"
   ]
  },
  {
   "cell_type": "markdown",
   "metadata": {},
   "source": [
    "Si no queremos que importe el orden, es necesario indicar explícitamente el valor para cada variable, como sigue:"
   ]
  },
  {
   "cell_type": "code",
   "execution_count": 63,
   "metadata": {},
   "outputs": [
    {
     "data": {
      "text/plain": [
       "22"
      ]
     },
     "execution_count": 63,
     "metadata": {},
     "output_type": "execute_result"
    }
   ],
   "source": [
    "polinomio(x = 1, y = 2, z = 3)"
   ]
  },
  {
   "cell_type": "code",
   "execution_count": 64,
   "metadata": {},
   "outputs": [
    {
     "data": {
      "text/plain": [
       "22"
      ]
     },
     "execution_count": 64,
     "metadata": {},
     "output_type": "execute_result"
    }
   ],
   "source": [
    "polinomio(y = 2, x = 1, z = 3)"
   ]
  },
  {
   "cell_type": "markdown",
   "metadata": {},
   "source": [
    "### Función `map`"
   ]
  },
  {
   "cell_type": "markdown",
   "metadata": {},
   "source": [
    "Esta función se aplica a cada elemento de la estructura de datos que se considere. "
   ]
  },
  {
   "cell_type": "code",
   "execution_count": 68,
   "metadata": {},
   "outputs": [
    {
     "data": {
      "text/plain": [
       "<map at 0x10335ae48>"
      ]
     },
     "execution_count": 68,
     "metadata": {},
     "output_type": "execute_result"
    }
   ],
   "source": [
    "mapeo1 = map(f, [1,2,3,4,5]); mapeo1"
   ]
  },
  {
   "cell_type": "markdown",
   "metadata": {},
   "source": [
    "y si queremos el resultado, es necesario usar `list`."
   ]
  },
  {
   "cell_type": "code",
   "execution_count": 69,
   "metadata": {},
   "outputs": [
    {
     "data": {
      "text/plain": [
       "[1, 4, 9, 16, 25]"
      ]
     },
     "execution_count": 69,
     "metadata": {},
     "output_type": "execute_result"
    }
   ],
   "source": [
    "list(mapeo1)"
   ]
  },
  {
   "cell_type": "code",
   "execution_count": 70,
   "metadata": {},
   "outputs": [
    {
     "data": {
      "text/plain": [
       "<map at 0x10335a978>"
      ]
     },
     "execution_count": 70,
     "metadata": {},
     "output_type": "execute_result"
    }
   ],
   "source": [
    "mapeo2 = map(f, (1,2,3,4,5)); mapeo2"
   ]
  },
  {
   "cell_type": "code",
   "execution_count": 71,
   "metadata": {},
   "outputs": [
    {
     "data": {
      "text/plain": [
       "[1, 4, 9, 16, 25]"
      ]
     },
     "execution_count": 71,
     "metadata": {},
     "output_type": "execute_result"
    }
   ],
   "source": [
    "list(mapeo2)"
   ]
  },
  {
   "cell_type": "markdown",
   "metadata": {},
   "source": [
    "### `list compression`"
   ]
  },
  {
   "cell_type": "code",
   "execution_count": 72,
   "metadata": {},
   "outputs": [
    {
     "data": {
      "text/plain": [
       "[0, 1, 2, 3, 4, 5, 6, 7, 8, 9]"
      ]
     },
     "execution_count": 72,
     "metadata": {},
     "output_type": "execute_result"
    }
   ],
   "source": [
    "[i for i in range(10)]"
   ]
  },
  {
   "cell_type": "markdown",
   "metadata": {},
   "source": [
    "###  <font color = blue > Ejercicio </font>\n",
    "- Escribe una funcón que le sume `1` a su entrada. \n",
    "- Usa `map` para sumarle uno a una lista de entradas. \n",
    "- Crea una lista con los cuadrados de los números del 1 al 100, con `list compression`. "
   ]
  }
 ],
 "metadata": {
  "kernelspec": {
   "display_name": "Python 3",
   "language": "python",
   "name": "python3"
  },
  "language_info": {
   "codemirror_mode": {
    "name": "ipython",
    "version": 3
   },
   "file_extension": ".py",
   "mimetype": "text/x-python",
   "name": "python",
   "nbconvert_exporter": "python",
   "pygments_lexer": "ipython3",
   "version": "3.6.4"
  }
 },
 "nbformat": 4,
 "nbformat_minor": 2
}
